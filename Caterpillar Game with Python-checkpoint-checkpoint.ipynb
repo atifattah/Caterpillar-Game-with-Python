{
 "cells": [
  {
   "cell_type": "code",
   "execution_count": 1,
   "id": "416b65f8",
   "metadata": {},
   "outputs": [],
   "source": [
    "import turtle as t\n",
    "import random as r"
   ]
  },
  {
   "cell_type": "code",
   "execution_count": 2,
   "id": "6cec8f16",
   "metadata": {},
   "outputs": [],
   "source": [
    "t.bgcolor('yellow')"
   ]
  },
  {
   "cell_type": "code",
   "execution_count": 3,
   "id": "cc135901",
   "metadata": {},
   "outputs": [],
   "source": [
    "caterpillar = t.Turtle()\n",
    "caterpillar.shape('square')\n",
    "caterpillar.color('red')\n",
    "caterpillar.speed(0)\n",
    "caterpillar.penup()\n",
    "caterpillar.hideturtle()"
   ]
  },
  {
   "cell_type": "code",
   "execution_count": 4,
   "id": "f101b759",
   "metadata": {},
   "outputs": [
    {
     "data": {
      "text/plain": [
       "3"
      ]
     },
     "execution_count": 4,
     "metadata": {},
     "output_type": "execute_result"
    }
   ],
   "source": [
    "leaf = t.Turtle()\n",
    "leaf_shape = ((0,0), (14,2), (18,6), (20,20), (6,18), (2,14))\n",
    "t.register_shape('leaf',leaf_shape)\n",
    "leaf.shape('leaf')\n",
    "leaf.color('green')\n",
    "leaf.penup()\n",
    "leaf.hideturtle()\n",
    "leaf.speed()"
   ]
  },
  {
   "cell_type": "code",
   "execution_count": 5,
   "id": "b3b68f1e",
   "metadata": {},
   "outputs": [],
   "source": [
    "game_started = False\n",
    "text_turtle = t.Turtle()\n",
    "text_turtle.write('Press SPACE to start',align='center',font=('Arial',16,'bold'))\n",
    "text_turtle.hideturtle()"
   ]
  },
  {
   "cell_type": "code",
   "execution_count": 6,
   "id": "1ef992e5",
   "metadata": {},
   "outputs": [],
   "source": [
    "score_turtle = t.Turtle()\n",
    "score_turtle.hideturtle()\n",
    "score_turtle.speed(0)"
   ]
  },
  {
   "cell_type": "code",
   "execution_count": 7,
   "id": "0f217839",
   "metadata": {},
   "outputs": [],
   "source": [
    "def outside_window():\n",
    "    left_wall = -t.window_width()/2\n",
    "    right_wall = t.window_width()/2\n",
    "    top_wall = t.window_height()/2\n",
    "    bottom_wall = -t.window_height()/2\n",
    "    (x,y) = catepillar.pos()\n",
    "    outside = x < left_wall or x >right_wall or y < bottom_wall or y > top_wall\n",
    "    return outside"
   ]
  },
  {
   "cell_type": "code",
   "execution_count": 8,
   "id": "b790d80a",
   "metadata": {},
   "outputs": [],
   "source": [
    "def game_over():\n",
    "    caterpillar.color('yellow')\n",
    "    leaf.color('yellow')\n",
    "    t.penup()\n",
    "    t.hideturtle()\n",
    "    t.write('GAME OVER!', align='center', font=('Aerial',30, 'normal'))"
   ]
  },
  {
   "cell_type": "code",
   "execution_count": 9,
   "id": "ad78c9a8",
   "metadata": {},
   "outputs": [],
   "source": [
    "def display_score(current_score):\n",
    "    score_turtle.clear()\n",
    "    score.turtle.penup()\n",
    "    x = (t.window_width()/2)-50\n",
    "    y = (t.window_height()/2)-50\n",
    "    score_turtle.setpos(x, y)\n",
    "    score_turtle.write(str(current_score), align = 'right', font = ('Arial', 40, 'bold'))"
   ]
  },
  {
   "cell_type": "code",
   "execution_count": 10,
   "id": "f8a06867",
   "metadata": {},
   "outputs": [],
   "source": [
    "def place_leaf():\n",
    "    leaf.hideturtle()\n",
    "    leaf.setx(rd.randint(-200,200))\n",
    "    leaf.sety(rd.randint(-200,200))\n",
    "    leaf.showturtle()"
   ]
  },
  {
   "cell_type": "code",
   "execution_count": 11,
   "id": "c2158de4",
   "metadata": {},
   "outputs": [],
   "source": [
    "def start_game():\n",
    "    global game_started\n",
    "    if game_started:\n",
    "        return\n",
    "    game_started = True\n",
    "    score = 0\n",
    "    text_turtle.clear()\n",
    "    caterpillar_speed = 2\n",
    "    caterpillar_length = 3\n",
    "    caterpillar.shapesize(1, caterpillar_length, 1)\n",
    "    caterpillar.showturtle()\n",
    "    display_score(score)\n",
    "    place_leaf()"
   ]
  },
  {
   "cell_type": "code",
   "execution_count": 4,
   "id": "24c883d2",
   "metadata": {},
   "outputs": [
    {
     "ename": "NameError",
     "evalue": "name 'caterpillar' is not defined",
     "output_type": "error",
     "traceback": [
      "\u001b[1;31m---------------------------------------------------------------------------\u001b[0m",
      "\u001b[1;31mNameError\u001b[0m                                 Traceback (most recent call last)",
      "Input \u001b[1;32mIn [4]\u001b[0m, in \u001b[0;36m<cell line: 2>\u001b[1;34m()\u001b[0m\n\u001b[0;32m      1\u001b[0m \u001b[38;5;28;01mwhile\u001b[39;00m \u001b[38;5;28;01mTrue\u001b[39;00m:\n\u001b[1;32m----> 2\u001b[0m     \u001b[43mcaterpillar\u001b[49m\u001b[38;5;241m.\u001b[39mforward(caterpillar_speed)\n\u001b[0;32m      3\u001b[0m     \u001b[38;5;28;01mif\u001b[39;00m caterpillar\u001b[38;5;241m.\u001b[39mdistance(leaf) \u001b[38;5;241m<\u001b[39m \u001b[38;5;241m20\u001b[39m:\n\u001b[0;32m      4\u001b[0m         place_leaf()\n",
      "\u001b[1;31mNameError\u001b[0m: name 'caterpillar' is not defined"
     ]
    }
   ],
   "source": [
    "    while True:\n",
    "        caterpillar.forward(caterpillar_speed)\n",
    "        if caterpillar.distance(leaf) < 20:\n",
    "            place_leaf()\n",
    "            caterpillar_length = caterpillar_length + 1\n",
    "            caterpillar.shapesize(1,caterpillar_length,1)\n",
    "            caterpillar_speed = caterpillar_speed + 1\n",
    "            score = score + 10\n",
    "            display_score(score)\n",
    "        if outside_window():\n",
    "            game_over()\n",
    "            break"
   ]
  },
  {
   "cell_type": "code",
   "execution_count": 5,
   "id": "b52da660",
   "metadata": {},
   "outputs": [],
   "source": [
    "def move_up():\n",
    "    if caterpillar.heading() == 0 or caterpillar.heading() == 180:\n",
    "        caterpillar.setheading(90)"
   ]
  },
  {
   "cell_type": "code",
   "execution_count": 6,
   "id": "237312c6",
   "metadata": {},
   "outputs": [],
   "source": [
    "def move_down():\n",
    "    if caterpillar.heading() == 0 or caterpillar.heading() == 180:\n",
    "        caterpillar.setheading(270)"
   ]
  },
  {
   "cell_type": "code",
   "execution_count": null,
   "id": "b5ebcdfb",
   "metadata": {},
   "outputs": [],
   "source": [
    "def move_left():\n",
    "    if caterpillar.heading() == 90 or caterpillar.heading() == 270:\n",
    "        caterpillar.setheading(180)"
   ]
  },
  {
   "cell_type": "code",
   "execution_count": null,
   "id": "b5a32929",
   "metadata": {},
   "outputs": [],
   "source": [
    "def move_right():\n",
    "    if caterpillar.heading() == 90 or caterpillar.heading() == 270:\n",
    "        caterpillar.setheading(0)"
   ]
  },
  {
   "cell_type": "code",
   "execution_count": null,
   "id": "01b870ae",
   "metadata": {},
   "outputs": [],
   "source": [
    "t.onskey(start_game, 'space')\n",
    "t.onkey(move_up, 'Up')\n",
    "t.onkey(move_right, 'Right')\n",
    "t.onkey(move_down, 'Down')\n",
    "t.onkey(move_left, 'Left')\n",
    "t.listen()\n",
    "t.mainloop()"
   ]
  }
 ],
 "metadata": {
  "kernelspec": {
   "display_name": "Python 3 (ipykernel)",
   "language": "python",
   "name": "python3"
  },
  "language_info": {
   "codemirror_mode": {
    "name": "ipython",
    "version": 3
   },
   "file_extension": ".py",
   "mimetype": "text/x-python",
   "name": "python",
   "nbconvert_exporter": "python",
   "pygments_lexer": "ipython3",
   "version": "3.9.12"
  }
 },
 "nbformat": 4,
 "nbformat_minor": 5
}
